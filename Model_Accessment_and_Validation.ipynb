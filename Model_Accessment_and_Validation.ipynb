{
  "nbformat": 4,
  "nbformat_minor": 0,
  "metadata": {
    "colab": {
      "name": "Model_Accessment_and_Validation.ipynb",
      "provenance": [],
      "collapsed_sections": [],
      "authorship_tag": "ABX9TyM4yB5lVMsBOVehnCwwo2GR",
      "include_colab_link": true
    },
    "kernelspec": {
      "name": "python3",
      "display_name": "Python 3"
    }
  },
  "cells": [
    {
      "cell_type": "markdown",
      "metadata": {
        "id": "view-in-github",
        "colab_type": "text"
      },
      "source": [
        "<a href=\"https://colab.research.google.com/github/SamoaChen/Frequentist-ML/blob/main/Model_Accessment_and_Validation.ipynb\" target=\"_parent\"><img src=\"https://colab.research.google.com/assets/colab-badge.svg\" alt=\"Open In Colab\"/></a>"
      ]
    },
    {
      "cell_type": "code",
      "metadata": {
        "id": "a8Z7CxS4P2cS"
      },
      "source": [
        "import pandas as pd \n",
        "import numpy as np\n",
        "from sklearn.neighbors import KNeighborsClassifier\n",
        "from sklearn.model_selection import train_test_split\n",
        "import matplotlib.pyplot as plt\n",
        "\n",
        "# Seed the generator\n",
        "np.random.seed(420)\n",
        "\n",
        "#----------------INITIATE THE DATA_X matrix\n",
        "data_x = np.zeros((50, 5000))\n",
        "\n",
        "#----------------TABULATE THE DATA_X MATRIX WITH STANDARD GAUSSIAN DISTRIBUTION\n",
        "for column_num in range(5000):\n",
        "  data_x[:,column_num] = np.random.normal(0,1,50)\n",
        "\n",
        "#----------------TABULATE THE DATA_Y ARRAY WITH RANDOM ASSIGNED CLASSES\n",
        "data_y = np.zeros((50,1))\n",
        "data_y[25:] = 1\n",
        "np.random.shuffle(data_y)"
      ],
      "execution_count": null,
      "outputs": []
    },
    {
      "cell_type": "code",
      "metadata": {
        "id": "Us8B7Tx_Rueg"
      },
      "source": [
        "#----------------FUNCTIONS\n",
        "#PLACE TO STORE LAST CV DIVISION FOR PLOTTING\n",
        "test_plot_cord_wrong = []\n",
        "test_plot_cord_right = []\n",
        "#PLACE TO STORE LAST FEATURE SELECTION IN RIGHT METHOD\n",
        "arg_order_right = []\n",
        "#FUNCTION FOR CROSS VALIDATION WRONG METHOD\n",
        "def cross_vali(data_x,data_y,fold):\n",
        "  global test_plot_cord_wrong\n",
        "  #STEP\n",
        "  step = int(data_x.shape[0]/fold)\n",
        "  #ERR VECTOR FOR CV \n",
        "  err_vec = np.zeros(fold)\n",
        "  #LOOP THROUGH EACH FOLD\n",
        "  for i in range(fold):\n",
        "    test_cord = np.arange(i*step,i*step+step,1)\n",
        "    train_cord = np.delete(np.arange(0,50,1),test_cord)\n",
        "    #STORE TEST PLOT CORD\n",
        "    test_plot_cord_wrong = test_cord\n",
        "    #CAL ERROR VECTOR\n",
        "    err_vec[i] = cv_err(data_x[train_cord,:],data_y[train_cord,:],data_x[test_cord,:],data_y[test_cord,:])\n",
        "  err = sum(err_vec)/err_vec.size\n",
        "  return err\n",
        "\n",
        "#FUNCTION FOR CROSS VALIDATION RIGHT METHOD\n",
        "def cross_vali_right(data_x,data_y,fold):\n",
        "  global test_plot_cord_right\n",
        "  global arg_order_right\n",
        "  #STEP\n",
        "  step = int(data_x.shape[0]/fold)\n",
        "  #ERR VECTOR FOR CV \n",
        "  err_vec = np.zeros(fold)\n",
        "  #LOOP THROUGH EACH FOLD\n",
        "  for i in range(fold):\n",
        "    test_cord = np.arange(i*step,i*step+step,1)\n",
        "    train_cord = np.delete(np.arange(0,50,1),test_cord)\n",
        "    #FORM TRAIN AND TEST SETS\n",
        "    train_x = data_x[train_cord,:]\n",
        "    train_y = data_y[train_cord,:]\n",
        "    test_x = data_x[test_cord,:]\n",
        "    test_y = data_y[test_cord,:]\n",
        "    #SELECT 100 MOST CORRELATED FEATURES\n",
        "    correlation_vec = np.zeros(data_x.shape[1])\n",
        "    for num in range(data_x.shape[1]):\n",
        "      #CALCULATE CORRELATION\n",
        "      correlation_vec[num] = np.correlate(train_x[:,num],train_y.flatten())\n",
        "\n",
        "    #SORT CORRELATION BY MAGNITUDE\n",
        "    #arg_order = np.argsort(np.absolute(correlation_vec))\n",
        "    arg_order = np.argsort(correlation_vec)\n",
        "    arg_order = arg_order[4900:]\n",
        "    #STORE LAST TEST CORD AND ARG ORDER\n",
        "    test_plot_cord_right = test_cord\n",
        "    arg_order_right = arg_order\n",
        "    #SEPERATE MOST CORRELATED FEATURES\n",
        "    train_x = train_x[:,arg_order]\n",
        "    test_x = test_x[:,arg_order] \n",
        "\n",
        "    #CALCULATE ERR\n",
        "    err_vec[i] = cv_err(train_x,train_y,test_x,test_y)\n",
        "  err = sum(err_vec)/err_vec.size\n",
        "  return err\n",
        "\n",
        "#FUNCTION FOR ERROR CALCULATION\n",
        "def cv_err(Train_x,Train_y,Test_x,Test_y):\n",
        "  knn = KNeighborsClassifier()\n",
        "  knn.fit(Train_x,Train_y.flatten())\n",
        "  pred = knn.predict(Test_x)\n",
        "  err = 100*(1-sum(pred == Test_y.flatten())/Test_y.shape[0])\n",
        "  return err\n",
        "\n",
        "\n"
      ],
      "execution_count": null,
      "outputs": []
    },
    {
      "cell_type": "code",
      "metadata": {
        "id": "Zlvwx2a_XSlB",
        "outputId": "d3692c89-7732-4639-b316-6b1707160179",
        "colab": {
          "base_uri": "https://localhost:8080/",
          "height": 34
        }
      },
      "source": [
        "#-----------------WRONG METHOD\n",
        "#INITIATE THE ARRAY FOR STORING CORRELATIONS\n",
        "correlations = np.zeros(5000)\n",
        "\n",
        "#TABULATE THE CORRELATION ARRAY\n",
        "for num in range(5000):\n",
        "  correlations[num] = np.correlate(data_x[:,num],data_y.flatten())\n",
        "\n",
        "#SORT CORRELATION BY MAGNITUDE\n",
        "#arg_order = np.argsort(np.absolute(correlations))\n",
        "arg_order = np.argsort(correlations)\n",
        "arg_order = arg_order[4900:]\n",
        "#SEPERATE MOST CORRELATED FEATURES\n",
        "data_x_select = data_x[:,arg_order]\n",
        "\n",
        "#CALCULATE ERROR \n",
        "wrong_err = cross_vali(data_x_select, data_y, 5)\n",
        "print(\"The cross-validation error for wrong method is: \",wrong_err,\"%\")\n"
      ],
      "execution_count": null,
      "outputs": [
        {
          "output_type": "stream",
          "text": [
            "The cross-validation error for wrong method is:  7.999999999999998 %\n"
          ],
          "name": "stdout"
        }
      ]
    },
    {
      "cell_type": "markdown",
      "metadata": {
        "id": "VpQexRMy6UZx"
      },
      "source": [
        "The cross validation error for the wrong method gives a small error at 8%, which matches with the expectation\n"
      ]
    },
    {
      "cell_type": "code",
      "metadata": {
        "id": "cFEEyrQXOWbW",
        "outputId": "f9e2afa8-dd25-4745-b88c-491403f442a0",
        "colab": {
          "base_uri": "https://localhost:8080/",
          "height": 458
        }
      },
      "source": [
        "#---------------HISTOGRAM OF CORRELATIONS OF RANDOMLY GENERATED FEATURES WITH LABLE\n",
        "#TEST SET WITH FEATURES SELECTED IN WRONG WAY\n",
        "test_x_select = data_x[:,arg_order]\n",
        "test_x_select = test_x_select[test_plot_cord_wrong,:]\n",
        "test_y_selct = data_y[test_plot_cord_wrong]\n",
        "#INITIATE THE ARRAY FOR STORING CORRELATIONS\n",
        "correlations_test = np.zeros(100)\n",
        "#RECALC CORRELATION\n",
        "for num in range(100):\n",
        "  correlations_test[num] = np.correlate(test_x_select[:,num],test_plot_cord_wrong.flatten())\n",
        "#PLOT THE HISTOGRAM\n",
        "plt.figure(figsize=(11,7))\n",
        "plt.hist(correlations_test, bins=20)\n",
        "plt.title('Histogram of Wrong Method Features\\' Correlation with Label')\n",
        "plt.ylabel('Frequency')\n",
        "plt.xlabel('Correlation')\n",
        "plt.show()"
      ],
      "execution_count": null,
      "outputs": [
        {
          "output_type": "display_data",
          "data": {
            "image/png": "[encoded data removed]",
            "text/plain": [
              "<Figure size 792x504 with 1 Axes>"
            ]
          },
          "metadata": {
            "tags": [],
            "needs_background": "light"
          }
        }
      ]
    },
    {
      "cell_type": "code",
      "metadata": {
        "id": "pvUVgbJORr3v",
        "outputId": "59c4b576-140c-4f20-a1d3-7d1af6161165",
        "colab": {
          "base_uri": "https://localhost:8080/",
          "height": 34
        }
      },
      "source": [
        "np.mean(correlations_test)"
      ],
      "execution_count": null,
      "outputs": [
        {
          "output_type": "execute_result",
          "data": {
            "text/plain": [
              "102.59186197234068"
            ]
          },
          "metadata": {
            "tags": []
          },
          "execution_count": 5
        }
      ]
    },
    {
      "cell_type": "markdown",
      "metadata": {
        "id": "9KDCNW5I6uqv"
      },
      "source": [
        "Because the correlation value is used here instead of correlation coefficient, the value can get pretty big respectively. The average correlation deviate about 100 unit from 0"
      ]
    },
    {
      "cell_type": "code",
      "metadata": {
        "id": "LIbWYmHblykj",
        "outputId": "12d77a23-e241-4f27-b06b-61cbfe1462c4",
        "colab": {
          "base_uri": "https://localhost:8080/",
          "height": 34
        }
      },
      "source": [
        "#----------------RIGHT METHOD\n",
        "right_err = cross_vali_right(data_x,data_y,5)\n",
        "\n",
        "#CALCULATE ERROR \n",
        "print(\"The cross-validation error for right method is: \",right_err,\"%\")"
      ],
      "execution_count": null,
      "outputs": [
        {
          "output_type": "stream",
          "text": [
            "The cross-validation error for right method is:  46.0 %\n"
          ],
          "name": "stdout"
        }
      ]
    },
    {
      "cell_type": "markdown",
      "metadata": {
        "id": "HTd7K7h56cvH"
      },
      "source": [
        "The cv error percentage is about 50%, which matches with the expectation of no relationship between features and lable"
      ]
    },
    {
      "cell_type": "code",
      "metadata": {
        "id": "4QNOJOPJQ6wo",
        "outputId": "6306df0e-3ce4-44dc-c478-b5c2c0335f3f",
        "colab": {
          "base_uri": "https://localhost:8080/",
          "height": 458
        }
      },
      "source": [
        "#---------------HISTOGRAM OF CORRELATIONS OF RANDOMLY GENERATED FEATURES WITH LABLE RIGHT METHOD\n",
        "#TEST SET WITH FEATURES SELECTED IN WRONG WAY\n",
        "test_x_select = data_x[:,arg_order_right]\n",
        "test_x_select = test_x_select[test_plot_cord_right,:]\n",
        "test_y_selct = data_y[test_plot_cord_right]\n",
        "#INITIATE THE ARRAY FOR STORING CORRELATIONS\n",
        "correlations_test = np.zeros(100)\n",
        "#RECALC CORRELATION\n",
        "for num in range(100):\n",
        "  correlations_test[num] = np.correlate(test_x_select[:,num],test_plot_cord_wrong.flatten())\n",
        "#PLOT THE HISTOGRAM\n",
        "plt.figure(figsize=(11,7))\n",
        "plt.hist(correlations_test, bins=20)\n",
        "plt.title('Histogram of Right Method Features\\' Correlation with Label')\n",
        "plt.ylabel('Frequency')\n",
        "plt.xlabel('Correlation')\n",
        "plt.show()"
      ],
      "execution_count": null,
      "outputs": [
        {
          "output_type": "display_data",
          "data": {
            "image/png": "[encoded data removed]",
            "text/plain": [
              "<Figure size 792x504 with 1 Axes>"
            ]
          },
          "metadata": {
            "tags": [],
            "needs_background": "light"
          }
        }
      ]
    },
    {
      "cell_type": "code",
      "metadata": {
        "id": "PoJr80rARfAo",
        "outputId": "db5dff3e-ba9d-4e60-e5f9-25a1a022889e",
        "colab": {
          "base_uri": "https://localhost:8080/",
          "height": 34
        }
      },
      "source": [
        "np.mean(correlations_test)"
      ],
      "execution_count": null,
      "outputs": [
        {
          "output_type": "execute_result",
          "data": {
            "text/plain": [
              "1.6332003991873052"
            ]
          },
          "metadata": {
            "tags": []
          },
          "execution_count": 8
        }
      ]
    },
    {
      "cell_type": "markdown",
      "metadata": {
        "id": "PuxIMy2t6-Ux"
      },
      "source": [
        "Compare to the hist diagram of the wrong method, it is clear that the mean of this hist is at 0, so indicating an average 0 relationship between features and lable"
      ]
    },
    {
      "cell_type": "code",
      "metadata": {
        "id": "A8ADFS4nW2gm",
        "outputId": "98751b0b-7487-4ce7-f9fb-fb0d94981ded",
        "colab": {
          "base_uri": "https://localhost:8080/",
          "height": 458
        }
      },
      "source": [
        "#---------------HISTOGRAM OF CORRELATIONS OF RANDOMLY GENERATED FEATURES WITH LABLE\n",
        "#PLOT THE HISTOGRAM\n",
        "plt.figure(figsize=(11,7))\n",
        "plt.hist(correlations, bins=20)\n",
        "plt.title('Histogram of All Features\\' Correlation with Label')\n",
        "plt.ylabel('Frequency')\n",
        "plt.xlabel('Correlation')\n",
        "plt.show()"
      ],
      "execution_count": null,
      "outputs": [
        {
          "output_type": "display_data",
          "data": {
            "image/png": "[encoded data removed]",
            "text/plain": [
              "<Figure size 792x504 with 1 Axes>"
            ]
          },
          "metadata": {
            "tags": [],
            "needs_background": "light"
          }
        }
      ]
    },
    {
      "cell_type": "markdown",
      "metadata": {
        "id": "kAGrR7we7RWj"
      },
      "source": [
        "This is the hist digram of all features with the the lable before any feature selection, it can clearly see the mean is around 0"
      ]
    },
    {
      "cell_type": "code",
      "metadata": {
        "id": "AYvVBDh0s69U"
      },
      "source": [
        ""
      ],
      "execution_count": null,
      "outputs": []
    }
  ]
}