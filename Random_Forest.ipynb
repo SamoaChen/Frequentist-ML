{
  "nbformat": 4,
  "nbformat_minor": 0,
  "metadata": {
    "colab": {
      "name": "Random_Forest.ipynb",
      "provenance": [],
      "mount_file_id": "11-_5d4ClDf5JISe9NyJo4blpLz6TS-fu",
      "authorship_tag": "ABX9TyORINuDHV2S27gJ3q/czo+D",
      "include_colab_link": true
    },
    "kernelspec": {
      "name": "python3",
      "display_name": "Python 3"
    }
  },
  "cells": [
    {
      "cell_type": "markdown",
      "metadata": {
        "id": "view-in-github",
        "colab_type": "text"
      },
      "source": [
        "<a href=\"https://colab.research.google.com/github/SamoaChen/Frequentist-ML/blob/main/Random_Forest.ipynb\" target=\"_parent\"><img src=\"https://colab.research.google.com/assets/colab-badge.svg\" alt=\"Open In Colab\"/></a>"
      ]
    },
    {
      "cell_type": "code",
      "metadata": {
        "id": "Uz0MeO85dqxG",
        "colab": {
          "base_uri": "https://localhost:8080/",
          "height": 413
        },
        "outputId": "ade3b05c-bca5-4560-c26b-c9a9659e0bbd"
      },
      "source": [
        "import pandas as pd\n",
        "from sklearn.model_selection import train_test_split\n",
        "from sklearn.metrics import mean_squared_error\n",
        "import numpy as np \n",
        "import matplotlib.pyplot as plt\n",
        "from sklearn.ensemble import GradientBoostingRegressor\n",
        "from sklearn.ensemble import RandomForestRegressor\n",
        "\n",
        "data = '/content/drive/My Drive/Colab Notebooks/ML_HW4/housing.csv'\n",
        "housing = pd.read_csv(data, sep=',', header=0)\n",
        "housing"
      ],
      "execution_count": null,
      "outputs": [
        {
          "output_type": "execute_result",
          "data": {
            "text/html": [
              "<div>\n",
              "<style scoped>\n",
              "    .dataframe tbody tr th:only-of-type {\n",
              "        vertical-align: middle;\n",
              "    }\n",
              "\n",
              "    .dataframe tbody tr th {\n",
              "        vertical-align: top;\n",
              "    }\n",
              "\n",
              "    .dataframe thead th {\n",
              "        text-align: right;\n",
              "    }\n",
              "</style>\n",
              "<table border=\"1\" class=\"dataframe\">\n",
              "  <thead>\n",
              "    <tr style=\"text-align: right;\">\n",
              "      <th></th>\n",
              "      <th>median_house_value</th>\n",
              "      <th>median_income</th>\n",
              "      <th>housing_median_age</th>\n",
              "      <th>total_rooms</th>\n",
              "      <th>total_bedrooms</th>\n",
              "      <th>population</th>\n",
              "      <th>households</th>\n",
              "      <th>latitude</th>\n",
              "      <th>longitude</th>\n",
              "    </tr>\n",
              "  </thead>\n",
              "  <tbody>\n",
              "    <tr>\n",
              "      <th>0</th>\n",
              "      <td>452600</td>\n",
              "      <td>8.3252</td>\n",
              "      <td>41</td>\n",
              "      <td>880</td>\n",
              "      <td>129</td>\n",
              "      <td>322</td>\n",
              "      <td>126</td>\n",
              "      <td>37.88</td>\n",
              "      <td>-122.23</td>\n",
              "    </tr>\n",
              "    <tr>\n",
              "      <th>1</th>\n",
              "      <td>358500</td>\n",
              "      <td>8.3014</td>\n",
              "      <td>21</td>\n",
              "      <td>7099</td>\n",
              "      <td>1106</td>\n",
              "      <td>2401</td>\n",
              "      <td>1138</td>\n",
              "      <td>37.86</td>\n",
              "      <td>-122.22</td>\n",
              "    </tr>\n",
              "    <tr>\n",
              "      <th>2</th>\n",
              "      <td>352100</td>\n",
              "      <td>7.2574</td>\n",
              "      <td>52</td>\n",
              "      <td>1467</td>\n",
              "      <td>190</td>\n",
              "      <td>496</td>\n",
              "      <td>177</td>\n",
              "      <td>37.85</td>\n",
              "      <td>-122.24</td>\n",
              "    </tr>\n",
              "    <tr>\n",
              "      <th>3</th>\n",
              "      <td>341300</td>\n",
              "      <td>5.6431</td>\n",
              "      <td>52</td>\n",
              "      <td>1274</td>\n",
              "      <td>235</td>\n",
              "      <td>558</td>\n",
              "      <td>219</td>\n",
              "      <td>37.85</td>\n",
              "      <td>-122.25</td>\n",
              "    </tr>\n",
              "    <tr>\n",
              "      <th>4</th>\n",
              "      <td>342200</td>\n",
              "      <td>3.8462</td>\n",
              "      <td>52</td>\n",
              "      <td>1627</td>\n",
              "      <td>280</td>\n",
              "      <td>565</td>\n",
              "      <td>259</td>\n",
              "      <td>37.85</td>\n",
              "      <td>-122.25</td>\n",
              "    </tr>\n",
              "    <tr>\n",
              "      <th>...</th>\n",
              "      <td>...</td>\n",
              "      <td>...</td>\n",
              "      <td>...</td>\n",
              "      <td>...</td>\n",
              "      <td>...</td>\n",
              "      <td>...</td>\n",
              "      <td>...</td>\n",
              "      <td>...</td>\n",
              "      <td>...</td>\n",
              "    </tr>\n",
              "    <tr>\n",
              "      <th>20635</th>\n",
              "      <td>78100</td>\n",
              "      <td>1.5603</td>\n",
              "      <td>25</td>\n",
              "      <td>1665</td>\n",
              "      <td>374</td>\n",
              "      <td>845</td>\n",
              "      <td>330</td>\n",
              "      <td>39.48</td>\n",
              "      <td>-121.09</td>\n",
              "    </tr>\n",
              "    <tr>\n",
              "      <th>20636</th>\n",
              "      <td>77100</td>\n",
              "      <td>2.5568</td>\n",
              "      <td>18</td>\n",
              "      <td>697</td>\n",
              "      <td>150</td>\n",
              "      <td>356</td>\n",
              "      <td>114</td>\n",
              "      <td>39.49</td>\n",
              "      <td>-121.21</td>\n",
              "    </tr>\n",
              "    <tr>\n",
              "      <th>20637</th>\n",
              "      <td>92300</td>\n",
              "      <td>1.7000</td>\n",
              "      <td>17</td>\n",
              "      <td>2254</td>\n",
              "      <td>485</td>\n",
              "      <td>1007</td>\n",
              "      <td>433</td>\n",
              "      <td>39.43</td>\n",
              "      <td>-121.22</td>\n",
              "    </tr>\n",
              "    <tr>\n",
              "      <th>20638</th>\n",
              "      <td>84700</td>\n",
              "      <td>1.8672</td>\n",
              "      <td>18</td>\n",
              "      <td>1860</td>\n",
              "      <td>409</td>\n",
              "      <td>741</td>\n",
              "      <td>349</td>\n",
              "      <td>39.43</td>\n",
              "      <td>-121.32</td>\n",
              "    </tr>\n",
              "    <tr>\n",
              "      <th>20639</th>\n",
              "      <td>89400</td>\n",
              "      <td>2.3886</td>\n",
              "      <td>16</td>\n",
              "      <td>2785</td>\n",
              "      <td>616</td>\n",
              "      <td>1387</td>\n",
              "      <td>530</td>\n",
              "      <td>39.37</td>\n",
              "      <td>-121.24</td>\n",
              "    </tr>\n",
              "  </tbody>\n",
              "</table>\n",
              "<p>20640 rows × 9 columns</p>\n",
              "</div>"
            ],
            "text/plain": [
              "       median_house_value  median_income  ...  latitude  longitude\n",
              "0                  452600         8.3252  ...     37.88    -122.23\n",
              "1                  358500         8.3014  ...     37.86    -122.22\n",
              "2                  352100         7.2574  ...     37.85    -122.24\n",
              "3                  341300         5.6431  ...     37.85    -122.25\n",
              "4                  342200         3.8462  ...     37.85    -122.25\n",
              "...                   ...            ...  ...       ...        ...\n",
              "20635               78100         1.5603  ...     39.48    -121.09\n",
              "20636               77100         2.5568  ...     39.49    -121.21\n",
              "20637               92300         1.7000  ...     39.43    -121.22\n",
              "20638               84700         1.8672  ...     39.43    -121.32\n",
              "20639               89400         2.3886  ...     39.37    -121.24\n",
              "\n",
              "[20640 rows x 9 columns]"
            ]
          },
          "metadata": {
            "tags": []
          },
          "execution_count": 1
        }
      ]
    },
    {
      "cell_type": "code",
      "metadata": {
        "id": "VQ3YmhcpeM16"
      },
      "source": [
        "#-------------------SEPERATE TRAIN VALID AND TEST SETS\n",
        "housing_train , housing_remain = train_test_split(housing, test_size=0.2, random_state=100, shuffle=True)\n",
        "housing_valid , housing_test = train_test_split(housing_remain, test_size=0.5, random_state=100, shuffle=True)\n",
        "\n",
        "#SEPERATE X AND Y VALUES\n",
        "h_trainx = housing_train.drop(['median_house_value'], axis=1)\n",
        "h_trainy = housing_train['median_house_value']\n",
        "\n",
        "h_validx = housing_valid.drop(['median_house_value'], axis=1)\n",
        "h_validy = housing_valid['median_house_value']\n",
        "\n",
        "h_testx = housing_test.drop(['median_house_value'], axis=1)\n",
        "h_testy = housing_test['median_house_value']\n",
        "\n",
        "#STANDARDIZE DATA\n",
        "h_trainx=(h_trainx-h_trainx.mean())/h_trainx.std(ddof=1)\n",
        "h_validx=(h_validx-h_validx.mean())/h_validx.std(ddof=1)\n",
        "h_testx=(h_testx-h_testx.mean())/h_testx.std(ddof=1)"
      ],
      "execution_count": null,
      "outputs": []
    },
    {
      "cell_type": "code",
      "metadata": {
        "id": "F1EhLAQEkg7y",
        "colab": {
          "base_uri": "https://localhost:8080/",
          "height": 173
        },
        "outputId": "b1538128-fadf-4bb6-937a-f17db97ea75e"
      },
      "source": [
        "#-----------------XGBoost REGRESSION\n",
        "#XGBOOST DEPTH OF 4\n",
        "params = {'n_estimators': 249, 'max_depth': 2, 'learning_rate': 0.1, 'loss': 'ls', 'random_state':42}\n",
        "xgb_housing4 = GradientBoostingRegressor(**params)\n",
        "xgb_housing4.fit(h_trainx,h_trainy)\n",
        "\n",
        "#XGBOOST DEPTH OF 6\n",
        "params = {'n_estimators': 249, 'max_depth': 6, 'learning_rate': 0.1, 'loss': 'ls', 'random_state':42}\n",
        "xgb_housing6 = GradientBoostingRegressor(**params)\n",
        "xgb_housing6.fit(h_trainx,h_trainy)"
      ],
      "execution_count": null,
      "outputs": [
        {
          "output_type": "execute_result",
          "data": {
            "text/plain": [
              "GradientBoostingRegressor(alpha=0.9, ccp_alpha=0.0, criterion='friedman_mse',\n",
              "                          init=None, learning_rate=0.1, loss='ls', max_depth=6,\n",
              "                          max_features=None, max_leaf_nodes=None,\n",
              "                          min_impurity_decrease=0.0, min_impurity_split=None,\n",
              "                          min_samples_leaf=1, min_samples_split=2,\n",
              "                          min_weight_fraction_leaf=0.0, n_estimators=249,\n",
              "                          n_iter_no_change=None, presort='deprecated',\n",
              "                          random_state=42, subsample=1.0, tol=0.0001,\n",
              "                          validation_fraction=0.1, verbose=0, warm_start=False)"
            ]
          },
          "metadata": {
            "tags": []
          },
          "execution_count": 55
        }
      ]
    },
    {
      "cell_type": "code",
      "metadata": {
        "id": "Y3w4YWQnfmrM",
        "colab": {
          "base_uri": "https://localhost:8080/",
          "height": 138
        },
        "outputId": "64ca9a4f-8dbb-4682-87f0-704c49c5e95d"
      },
      "source": [
        "#-----------------RANDOM ROREST REGRESSON\n",
        "RF_params = {'n_estimators': 249, 'max_depth': 4, 'max_features':2, 'criterion': 'mse', 'random_state':42}\n",
        "randforest = RandomForestRegressor(**RF_params)\n",
        "randforest.fit(h_trainx, h_trainy)\n"
      ],
      "execution_count": null,
      "outputs": [
        {
          "output_type": "execute_result",
          "data": {
            "text/plain": [
              "RandomForestRegressor(bootstrap=True, ccp_alpha=0.0, criterion='mse',\n",
              "                      max_depth=4, max_features=2, max_leaf_nodes=None,\n",
              "                      max_samples=None, min_impurity_decrease=0.0,\n",
              "                      min_impurity_split=None, min_samples_leaf=1,\n",
              "                      min_samples_split=2, min_weight_fraction_leaf=0.0,\n",
              "                      n_estimators=249, n_jobs=None, oob_score=False,\n",
              "                      random_state=42, verbose=0, warm_start=False)"
            ]
          },
          "metadata": {
            "tags": []
          },
          "execution_count": 47
        }
      ]
    },
    {
      "cell_type": "code",
      "metadata": {
        "id": "PKqg_9TvlPhs"
      },
      "source": [
        "#---------------ERROR FOR RANDOM FOREST PREDICTION GIVEN DEPTH OF 2 AND 6\n",
        "#PREDICTION ERROR FRO M OF 2\n",
        "#INITLIATE TEST SCORE ERRORS\n",
        "RF2test_score = np.zeros((RF_params['n_estimators'],), dtype=np.float64)\n",
        "\n",
        "for num in np.arange(RF_params['n_estimators']):\n",
        "  new_params = {'n_estimators': num+1, 'max_depth': 4, 'max_features':2, 'criterion': 'mse', 'random_state':42}\n",
        "  randforest_2 = RandomForestRegressor(**new_params)\n",
        "  randforest_2.fit(h_trainx, h_trainy)\n",
        "  y_pred = randforest_2.predict(h_testx)\n",
        "  RF2test_score[num] = mean_squared_error(h_testy, y_pred)\n",
        "\n"
      ],
      "execution_count": null,
      "outputs": []
    },
    {
      "cell_type": "code",
      "metadata": {
        "id": "YtVoA6wR_4YD"
      },
      "source": [
        "#PREDICTION ERROR FRO M OF 6\n",
        "#INITLIATE TEST SCORE ERRORS\n",
        "RF6test_score = np.zeros((RF_params['n_estimators'],), dtype=np.float64)\n",
        "\n",
        "for num in np.arange(RF_params['n_estimators']):\n",
        "  new_params = {'n_estimators': num+1, 'max_depth': 4, 'max_features':6, 'criterion': 'mse', 'random_state':42}\n",
        "  randforest_6 = RandomForestRegressor(**new_params)\n",
        "  randforest_6.fit(h_trainx, h_trainy)\n",
        "  y_pred = randforest_6.predict(h_testx)\n",
        "  RF6test_score[num] = mean_squared_error(h_testy, y_pred)"
      ],
      "execution_count": null,
      "outputs": []
    },
    {
      "cell_type": "code",
      "metadata": {
        "id": "FIms849gg7_g",
        "colab": {
          "base_uri": "https://localhost:8080/",
          "height": 421
        },
        "outputId": "36480297-dd93-40dc-9e1f-2d52a4c0083e"
      },
      "source": [
        "#----------------DEVIANCE PLOT FOR TEST AND TRAIN DATA\n",
        "#COMPUTE TEST SET DEVIANCE\n",
        "XGB_test_score4 = np.zeros((params['n_estimators'],), dtype=np.float64)\n",
        "XGB_test_score6 = np.zeros((params['n_estimators'],), dtype=np.float64)\n",
        "\n",
        "for i, y_pred in enumerate(xgb_housing4.staged_predict(h_testx)):\n",
        "    XGB_test_score4[i] = xgb_housing4.loss_(h_testy, y_pred)\n",
        "\n",
        "for i, y_pred in enumerate(xgb_housing6.staged_predict(h_testx)):\n",
        "    XGB_test_score6[i] = xgb_housing6.loss_(h_testy, y_pred)\n",
        "\n",
        "plt.figure(figsize=(12, 6))\n",
        "plt.subplot(1, 2, 1)\n",
        "plt.title('Deviance')\n",
        "\n",
        "plt.plot(np.arange(params['n_estimators']) + 1, XGB_test_score4, 'r-',\n",
        "         label='XGB depth = 2')\n",
        "\n",
        "plt.plot(np.arange(params['n_estimators']) + 1, XGB_test_score6, 'b-',\n",
        "         label='XGB depth = 6')\n",
        "\n",
        "plt.plot(np.arange(RF_params['n_estimators']) + 1, RF2test_score, 'y-',\n",
        "         label='RF m = 2')\n",
        "\n",
        "plt.plot(np.arange(RF_params['n_estimators']) + 1, RF6test_score, 'g-',\n",
        "         label='RF m = 6')\n",
        "\n",
        "plt.legend(loc='upper right')\n",
        "plt.xlabel('Iterations')\n",
        "plt.ylabel('Deviance')"
      ],
      "execution_count": null,
      "outputs": [
        {
          "output_type": "execute_result",
          "data": {
            "text/plain": [
              "Text(0, 0.5, 'Deviance')"
            ]
          },
          "metadata": {
            "tags": []
          },
          "execution_count": 64
        },
        {
          "output_type": "display_data",
          "data": {
            "image/png": "[encoded data removed]",
            "text/plain": [
              "<Figure size 864x432 with 1 Axes>"
            ]
          },
          "metadata": {
            "tags": [],
            "needs_background": "light"
          }
        }
      ]
    },
    {
      "cell_type": "markdown",
      "metadata": {
        "id": "xn8ep7XnSAJ4"
      },
      "source": [
        "Due to the size of the data set, XGBoost with a depth of 4 and XGBoost with a depth of 6 converged after 100 iteration. For better demonstration, a depth of 2 and a depth of 6 are being analyzed."
      ]
    },
    {
      "cell_type": "code",
      "metadata": {
        "id": "EbJgMzE3J5OF",
        "colab": {
          "base_uri": "https://localhost:8080/",
          "height": 138
        },
        "outputId": "93f03226-4b87-4f48-d59a-346a71bbb53f"
      },
      "source": [
        "#---------------REGRESSION FOR CALCULATING FEATURE IMPORTANCES\n",
        "#XGBOOST DEPTH OF 6\n",
        "params = {'n_estimators': 800, 'max_depth': 4, 'learning_rate': 0.1, 'loss': 'ls', 'random_state':42}\n",
        "xgb_housing = GradientBoostingRegressor(**params)\n",
        "xgb_housing.fit(h_trainx,h_trainy)\n",
        "\n",
        "#RANDOM ROREST REGRESSON\n",
        "RF_params = {'n_estimators': 800, 'max_depth': 4, 'max_features':6, 'criterion': 'mse', 'random_state':42}\n",
        "randforest = RandomForestRegressor(**RF_params)\n",
        "randforest.fit(h_trainx, h_trainy)\n"
      ],
      "execution_count": null,
      "outputs": [
        {
          "output_type": "execute_result",
          "data": {
            "text/plain": [
              "RandomForestRegressor(bootstrap=True, ccp_alpha=0.0, criterion='mse',\n",
              "                      max_depth=4, max_features=6, max_leaf_nodes=None,\n",
              "                      max_samples=None, min_impurity_decrease=0.0,\n",
              "                      min_impurity_split=None, min_samples_leaf=1,\n",
              "                      min_samples_split=2, min_weight_fraction_leaf=0.0,\n",
              "                      n_estimators=800, n_jobs=None, oob_score=False,\n",
              "                      random_state=42, verbose=0, warm_start=False)"
            ]
          },
          "metadata": {
            "tags": []
          },
          "execution_count": 58
        }
      ]
    },
    {
      "cell_type": "code",
      "metadata": {
        "id": "KF8z_fCekJmm",
        "colab": {
          "base_uri": "https://localhost:8080/",
          "height": 981
        },
        "outputId": "10c332dd-1c44-4e23-ff26-bca671ddc54d"
      },
      "source": [
        "#--------------FEATURE IMPORTANCE PREDICTED FROM RANDOM FOREST\n",
        "feature_names = h_trainx.columns\n",
        "feature_importance = randforest.feature_importances_\n",
        "sorted_idx = feature_importance.argsort()\n",
        "y_ticks = np.arange(0, h_trainx.shape[1])\n",
        "fig, ax = plt.subplots(figsize=(10, 8))\n",
        "ax.barh(y_ticks, feature_importance[sorted_idx])\n",
        "ax.set_yticklabels(feature_names[sorted_idx])\n",
        "ax.set_yticks(y_ticks)\n",
        "ax.set_title(\"Feature Importance From Random Forest\")\n",
        "plt.show()\n",
        "#---------------FEATURE IMPORTANCE PREDICTED FROM XGBOOST\n",
        "feature_importance = xgb_housing.feature_importances_\n",
        "sorted_idx = feature_importance.argsort()\n",
        "y_ticks = np.arange(0, h_trainx.shape[1])\n",
        "fig, ax = plt.subplots(figsize=(10, 8))\n",
        "ax.barh(y_ticks, feature_importance[sorted_idx])\n",
        "ax.set_yticklabels(feature_names[sorted_idx])\n",
        "ax.set_yticks(y_ticks)\n",
        "ax.set_title(\"Feature Importance From XGBoost\")\n",
        "plt.show()"
      ],
      "execution_count": null,
      "outputs": [
        {
          "output_type": "display_data",
          "data": {
            "image/png": "[encoded data removed]",
            "text/plain": [
              "<Figure size 720x576 with 1 Axes>"
            ]
          },
          "metadata": {
            "tags": [],
            "needs_background": "light"
          }
        },
        {
          "output_type": "display_data",
          "data": {
            "image/png": "[encoded data removed]",
            "text/plain": [
              "<Figure size 720x576 with 1 Axes>"
            ]
          },
          "metadata": {
            "tags": [],
            "needs_background": "light"
          }
        }
      ]
    },
    {
      "cell_type": "markdown",
      "metadata": {
        "id": "meTNC3tvSQ_o"
      },
      "source": [
        "Both methods predicted median income to be the most important feature followed by either longitude or latitude, and housing median age .\n",
        "The feature importance predicted by random forest is much more concentrated than the importance predicted by XGBoost. Since most of weight are assigned to the most important feature."
      ]
    },
    {
      "cell_type": "code",
      "metadata": {
        "id": "jODcDeTS_tSb",
        "colab": {
          "base_uri": "https://localhost:8080/",
          "height": 413
        },
        "outputId": "df8dd960-6a74-46e4-a569-47418ccf19d7"
      },
      "source": [
        "#----------------REPEAT THE ABOVE ANALYSIS ON FOREST FIRE DATA SET\n",
        "ffire_file = '/content/drive/My Drive/Colab Notebooks/ML_HW5/forestfires.csv'\n",
        "ffire = pd.read_csv(ffire_file, sep=',', header=0)\n",
        "ffire"
      ],
      "execution_count": null,
      "outputs": [
        {
          "output_type": "execute_result",
          "data": {
            "text/html": [
              "<div>\n",
              "<style scoped>\n",
              "    .dataframe tbody tr th:only-of-type {\n",
              "        vertical-align: middle;\n",
              "    }\n",
              "\n",
              "    .dataframe tbody tr th {\n",
              "        vertical-align: top;\n",
              "    }\n",
              "\n",
              "    .dataframe thead th {\n",
              "        text-align: right;\n",
              "    }\n",
              "</style>\n",
              "<table border=\"1\" class=\"dataframe\">\n",
              "  <thead>\n",
              "    <tr style=\"text-align: right;\">\n",
              "      <th></th>\n",
              "      <th>X</th>\n",
              "      <th>Y</th>\n",
              "      <th>month</th>\n",
              "      <th>day</th>\n",
              "      <th>FFMC</th>\n",
              "      <th>DMC</th>\n",
              "      <th>DC</th>\n",
              "      <th>ISI</th>\n",
              "      <th>temp</th>\n",
              "      <th>RH</th>\n",
              "      <th>wind</th>\n",
              "      <th>rain</th>\n",
              "      <th>area</th>\n",
              "    </tr>\n",
              "  </thead>\n",
              "  <tbody>\n",
              "    <tr>\n",
              "      <th>0</th>\n",
              "      <td>4</td>\n",
              "      <td>6</td>\n",
              "      <td>mar</td>\n",
              "      <td>sun</td>\n",
              "      <td>89.3</td>\n",
              "      <td>51.3</td>\n",
              "      <td>102.2</td>\n",
              "      <td>9.6</td>\n",
              "      <td>10.6</td>\n",
              "      <td>46</td>\n",
              "      <td>4.9</td>\n",
              "      <td>0.0</td>\n",
              "      <td>0.00</td>\n",
              "    </tr>\n",
              "    <tr>\n",
              "      <th>1</th>\n",
              "      <td>4</td>\n",
              "      <td>6</td>\n",
              "      <td>sep</td>\n",
              "      <td>thu</td>\n",
              "      <td>93.7</td>\n",
              "      <td>80.9</td>\n",
              "      <td>685.2</td>\n",
              "      <td>17.9</td>\n",
              "      <td>17.6</td>\n",
              "      <td>42</td>\n",
              "      <td>3.1</td>\n",
              "      <td>0.0</td>\n",
              "      <td>0.00</td>\n",
              "    </tr>\n",
              "    <tr>\n",
              "      <th>2</th>\n",
              "      <td>3</td>\n",
              "      <td>5</td>\n",
              "      <td>mar</td>\n",
              "      <td>tue</td>\n",
              "      <td>88.1</td>\n",
              "      <td>25.7</td>\n",
              "      <td>67.6</td>\n",
              "      <td>3.8</td>\n",
              "      <td>14.9</td>\n",
              "      <td>38</td>\n",
              "      <td>2.7</td>\n",
              "      <td>0.0</td>\n",
              "      <td>0.00</td>\n",
              "    </tr>\n",
              "    <tr>\n",
              "      <th>3</th>\n",
              "      <td>3</td>\n",
              "      <td>5</td>\n",
              "      <td>aug</td>\n",
              "      <td>sat</td>\n",
              "      <td>93.5</td>\n",
              "      <td>139.4</td>\n",
              "      <td>594.2</td>\n",
              "      <td>20.3</td>\n",
              "      <td>17.6</td>\n",
              "      <td>52</td>\n",
              "      <td>5.8</td>\n",
              "      <td>0.0</td>\n",
              "      <td>0.00</td>\n",
              "    </tr>\n",
              "    <tr>\n",
              "      <th>4</th>\n",
              "      <td>3</td>\n",
              "      <td>6</td>\n",
              "      <td>sep</td>\n",
              "      <td>sun</td>\n",
              "      <td>92.4</td>\n",
              "      <td>124.1</td>\n",
              "      <td>680.7</td>\n",
              "      <td>8.5</td>\n",
              "      <td>17.2</td>\n",
              "      <td>58</td>\n",
              "      <td>1.3</td>\n",
              "      <td>0.0</td>\n",
              "      <td>0.00</td>\n",
              "    </tr>\n",
              "    <tr>\n",
              "      <th>...</th>\n",
              "      <td>...</td>\n",
              "      <td>...</td>\n",
              "      <td>...</td>\n",
              "      <td>...</td>\n",
              "      <td>...</td>\n",
              "      <td>...</td>\n",
              "      <td>...</td>\n",
              "      <td>...</td>\n",
              "      <td>...</td>\n",
              "      <td>...</td>\n",
              "      <td>...</td>\n",
              "      <td>...</td>\n",
              "      <td>...</td>\n",
              "    </tr>\n",
              "    <tr>\n",
              "      <th>380</th>\n",
              "      <td>4</td>\n",
              "      <td>3</td>\n",
              "      <td>aug</td>\n",
              "      <td>sun</td>\n",
              "      <td>81.6</td>\n",
              "      <td>56.7</td>\n",
              "      <td>665.6</td>\n",
              "      <td>1.9</td>\n",
              "      <td>27.8</td>\n",
              "      <td>32</td>\n",
              "      <td>2.7</td>\n",
              "      <td>0.0</td>\n",
              "      <td>6.44</td>\n",
              "    </tr>\n",
              "    <tr>\n",
              "      <th>381</th>\n",
              "      <td>2</td>\n",
              "      <td>4</td>\n",
              "      <td>aug</td>\n",
              "      <td>sun</td>\n",
              "      <td>81.6</td>\n",
              "      <td>56.7</td>\n",
              "      <td>665.6</td>\n",
              "      <td>1.9</td>\n",
              "      <td>21.9</td>\n",
              "      <td>71</td>\n",
              "      <td>5.8</td>\n",
              "      <td>0.0</td>\n",
              "      <td>54.29</td>\n",
              "    </tr>\n",
              "    <tr>\n",
              "      <th>382</th>\n",
              "      <td>7</td>\n",
              "      <td>4</td>\n",
              "      <td>aug</td>\n",
              "      <td>sun</td>\n",
              "      <td>81.6</td>\n",
              "      <td>56.7</td>\n",
              "      <td>665.6</td>\n",
              "      <td>1.9</td>\n",
              "      <td>21.2</td>\n",
              "      <td>70</td>\n",
              "      <td>6.7</td>\n",
              "      <td>0.0</td>\n",
              "      <td>11.16</td>\n",
              "    </tr>\n",
              "    <tr>\n",
              "      <th>383</th>\n",
              "      <td>1</td>\n",
              "      <td>4</td>\n",
              "      <td>aug</td>\n",
              "      <td>sat</td>\n",
              "      <td>94.4</td>\n",
              "      <td>146.0</td>\n",
              "      <td>614.7</td>\n",
              "      <td>11.3</td>\n",
              "      <td>25.6</td>\n",
              "      <td>42</td>\n",
              "      <td>4.0</td>\n",
              "      <td>0.0</td>\n",
              "      <td>0.00</td>\n",
              "    </tr>\n",
              "    <tr>\n",
              "      <th>384</th>\n",
              "      <td>6</td>\n",
              "      <td>3</td>\n",
              "      <td>nov</td>\n",
              "      <td>tue</td>\n",
              "      <td>79.5</td>\n",
              "      <td>3.0</td>\n",
              "      <td>106.7</td>\n",
              "      <td>1.1</td>\n",
              "      <td>11.8</td>\n",
              "      <td>31</td>\n",
              "      <td>4.5</td>\n",
              "      <td>0.0</td>\n",
              "      <td>0.00</td>\n",
              "    </tr>\n",
              "  </tbody>\n",
              "</table>\n",
              "<p>385 rows × 13 columns</p>\n",
              "</div>"
            ],
            "text/plain": [
              "     X  Y month  day  FFMC    DMC     DC   ISI  temp  RH  wind  rain   area\n",
              "0    4  6   mar  sun  89.3   51.3  102.2   9.6  10.6  46   4.9   0.0   0.00\n",
              "1    4  6   sep  thu  93.7   80.9  685.2  17.9  17.6  42   3.1   0.0   0.00\n",
              "2    3  5   mar  tue  88.1   25.7   67.6   3.8  14.9  38   2.7   0.0   0.00\n",
              "3    3  5   aug  sat  93.5  139.4  594.2  20.3  17.6  52   5.8   0.0   0.00\n",
              "4    3  6   sep  sun  92.4  124.1  680.7   8.5  17.2  58   1.3   0.0   0.00\n",
              "..  .. ..   ...  ...   ...    ...    ...   ...   ...  ..   ...   ...    ...\n",
              "380  4  3   aug  sun  81.6   56.7  665.6   1.9  27.8  32   2.7   0.0   6.44\n",
              "381  2  4   aug  sun  81.6   56.7  665.6   1.9  21.9  71   5.8   0.0  54.29\n",
              "382  7  4   aug  sun  81.6   56.7  665.6   1.9  21.2  70   6.7   0.0  11.16\n",
              "383  1  4   aug  sat  94.4  146.0  614.7  11.3  25.6  42   4.0   0.0   0.00\n",
              "384  6  3   nov  tue  79.5    3.0  106.7   1.1  11.8  31   4.5   0.0   0.00\n",
              "\n",
              "[385 rows x 13 columns]"
            ]
          },
          "metadata": {
            "tags": []
          },
          "execution_count": 54
        }
      ]
    },
    {
      "cell_type": "code",
      "metadata": {
        "id": "qrrc07_4BINi"
      },
      "source": [
        "#----------------ADDING DUMMIES FOR WEEKDAYS\n",
        "ffire.loc[ffire['day'] != 'mon', 'Mon'] = 0\n",
        "ffire.loc[ffire['day'] == 'mon', 'Mon'] = 1\n",
        "\n",
        "ffire.loc[ffire['day'] != 'tue', 'Tue'] = 0\n",
        "ffire.loc[ffire['day'] == 'tue', 'Tue'] = 1\n",
        "\n",
        "ffire.loc[ffire['day'] != 'wed', 'Wed'] = 0\n",
        "ffire.loc[ffire['day'] == 'wed', 'Wed'] = 1\n",
        "\n",
        "ffire.loc[ffire['day'] != 'thu', 'Thu'] = 0\n",
        "ffire.loc[ffire['day'] == 'thu', 'Thu'] = 1\n",
        "\n",
        "ffire.loc[ffire['day'] != 'fri', 'Fri'] = 0\n",
        "ffire.loc[ffire['day'] == 'fri', 'Fri'] = 1\n",
        "\n",
        "ffire.loc[ffire['day'] != 'sat', 'Sat'] = 0\n",
        "ffire.loc[ffire['day'] == 'sat', 'Sat'] = 1\n",
        "\n",
        "ffire.loc[ffire['day'] != 'sun', 'Sun'] = 0\n",
        "ffire.loc[ffire['day'] == 'sun', 'Sun'] = 1\n",
        "\n",
        "ffire = ffire.drop(columns =['day'])"
      ],
      "execution_count": null,
      "outputs": []
    },
    {
      "cell_type": "markdown",
      "metadata": {
        "id": "1E6yjUPuSwwg"
      },
      "source": [
        "Dummy variables are created for weekdays"
      ]
    },
    {
      "cell_type": "code",
      "metadata": {
        "id": "BAWAxGudClsF"
      },
      "source": [
        "#----------------ADDING DUMMIES FOR MONTHS\n",
        "ffire.loc[ffire['month'] != 'jan', 'Jan'] = 0\n",
        "ffire.loc[ffire['month'] == 'jan', 'Jan'] = 1\n",
        "\n",
        "ffire.loc[ffire['month'] != 'feb', 'Feb'] = 0\n",
        "ffire.loc[ffire['month'] == 'feb', 'Feb'] = 1\n",
        "\n",
        "ffire.loc[ffire['month'] != 'mar', 'Mar'] = 0\n",
        "ffire.loc[ffire['month'] == 'mar', 'Mar'] = 1\n",
        "\n",
        "ffire.loc[ffire['month'] != 'apr', 'Apr'] = 0\n",
        "ffire.loc[ffire['month'] == 'apr', 'Apr'] = 1\n",
        "\n",
        "ffire.loc[ffire['month'] != 'may', 'May'] = 0\n",
        "ffire.loc[ffire['month'] == 'may', 'May'] = 1\n",
        "\n",
        "ffire.loc[ffire['month'] != 'jun', 'Jun'] = 0\n",
        "ffire.loc[ffire['month'] == 'jun', 'Jun'] = 1\n",
        "\n",
        "ffire.loc[ffire['month'] != 'jul', 'Jul'] = 0\n",
        "ffire.loc[ffire['month'] == 'jul', 'Jul'] = 1\n",
        "\n",
        "ffire.loc[ffire['month'] != 'aug', 'Aug'] = 0\n",
        "ffire.loc[ffire['month'] == 'aug', 'Aug'] = 1\n",
        "\n",
        "ffire.loc[ffire['month'] != 'sep', 'Sep'] = 0\n",
        "ffire.loc[ffire['month'] == 'sep', 'Sep'] = 1\n",
        "\n",
        "ffire.loc[ffire['month'] != 'oct', 'Oct'] = 0\n",
        "ffire.loc[ffire['month'] == 'oct', 'Oct'] = 1\n",
        "\n",
        "ffire.loc[ffire['month'] != 'nov', 'Nov'] = 0\n",
        "ffire.loc[ffire['month'] == 'nov', 'Nov'] = 1\n",
        "\n",
        "ffire.loc[ffire['month'] != 'dec', 'Dec'] = 0\n",
        "ffire.loc[ffire['month'] == 'dec', 'Dec'] = 1\n",
        "\n",
        "ffire = ffire.drop(columns =['month'])"
      ],
      "execution_count": null,
      "outputs": []
    },
    {
      "cell_type": "markdown",
      "metadata": {
        "id": "juoDmdQmS1Mp"
      },
      "source": [
        "Dummy vairables are created for different month"
      ]
    },
    {
      "cell_type": "code",
      "metadata": {
        "id": "oABoa5j8BiLh"
      },
      "source": [
        "#-------------------SEPERATE TRAIN VALID AND TEST SETS\n",
        "ffire_train , ffire_remain = train_test_split(ffire, test_size=0.2, random_state=100, shuffle=True)\n",
        "ffire_valid , ffire_test = train_test_split(ffire_remain, test_size=0.5, random_state=100, shuffle=True)\n",
        "\n",
        "#SEPERATE X AND Y VALUES\n",
        "f_trainx = ffire_train.drop(['area'], axis=1)\n",
        "f_trainy = ffire_train['area']\n",
        "\n",
        "f_validx = ffire_valid.drop(['area'], axis=1)\n",
        "f_validy = ffire_valid['area']\n",
        "\n",
        "f_testx = ffire_test.drop(['area'], axis=1)\n",
        "f_testy = ffire_test['area']\n"
      ],
      "execution_count": null,
      "outputs": []
    },
    {
      "cell_type": "code",
      "metadata": {
        "id": "ZOQVMVG3Fuvs",
        "colab": {
          "base_uri": "https://localhost:8080/",
          "height": 173
        },
        "outputId": "d905a830-ad59-4b9c-f46d-476bcff25029"
      },
      "source": [
        "#-----------------XGBoost REGRESSION\n",
        "#XGBOOST DEPTH OF 4\n",
        "params = {'n_estimators': 249, 'max_depth': 2, 'learning_rate': 0.1, 'loss': 'ls', 'random_state':42}\n",
        "xgb_housing4 = GradientBoostingRegressor(**params)\n",
        "xgb_housing4.fit(f_trainx,f_trainy)\n",
        "\n",
        "#XGBOOST DEPTH OF 6\n",
        "params = {'n_estimators': 249, 'max_depth': 4, 'learning_rate': 0.1, 'loss': 'ls', 'random_state':42}\n",
        "xgb_housing6 = GradientBoostingRegressor(**params)\n",
        "xgb_housing6.fit(f_trainx,f_trainy)"
      ],
      "execution_count": null,
      "outputs": [
        {
          "output_type": "execute_result",
          "data": {
            "text/plain": [
              "GradientBoostingRegressor(alpha=0.9, ccp_alpha=0.0, criterion='friedman_mse',\n",
              "                          init=None, learning_rate=0.1, loss='ls', max_depth=4,\n",
              "                          max_features=None, max_leaf_nodes=None,\n",
              "                          min_impurity_decrease=0.0, min_impurity_split=None,\n",
              "                          min_samples_leaf=1, min_samples_split=2,\n",
              "                          min_weight_fraction_leaf=0.0, n_estimators=249,\n",
              "                          n_iter_no_change=None, presort='deprecated',\n",
              "                          random_state=42, subsample=1.0, tol=0.0001,\n",
              "                          validation_fraction=0.1, verbose=0, warm_start=False)"
            ]
          },
          "metadata": {
            "tags": []
          },
          "execution_count": 58
        }
      ]
    },
    {
      "cell_type": "code",
      "metadata": {
        "id": "W7QP5fBhF0Jw",
        "colab": {
          "base_uri": "https://localhost:8080/",
          "height": 138
        },
        "outputId": "733be253-2517-4679-e191-4c7900d6daa1"
      },
      "source": [
        "#-----------------RANDOM ROREST REGRESSON\n",
        "RF_params = {'n_estimators': 249, 'max_depth': 3, 'max_features':2, 'criterion': 'mse', 'random_state':42}\n",
        "randforest = RandomForestRegressor(**RF_params)\n",
        "randforest.fit(f_trainx, f_trainy)\n"
      ],
      "execution_count": null,
      "outputs": [
        {
          "output_type": "execute_result",
          "data": {
            "text/plain": [
              "RandomForestRegressor(bootstrap=True, ccp_alpha=0.0, criterion='mse',\n",
              "                      max_depth=3, max_features=2, max_leaf_nodes=None,\n",
              "                      max_samples=None, min_impurity_decrease=0.0,\n",
              "                      min_impurity_split=None, min_samples_leaf=1,\n",
              "                      min_samples_split=2, min_weight_fraction_leaf=0.0,\n",
              "                      n_estimators=249, n_jobs=None, oob_score=False,\n",
              "                      random_state=42, verbose=0, warm_start=False)"
            ]
          },
          "metadata": {
            "tags": []
          },
          "execution_count": 59
        }
      ]
    },
    {
      "cell_type": "code",
      "metadata": {
        "id": "QDOmts-qF611"
      },
      "source": [
        "#---------------ERROR FOR RANDOM FOREST PREDICTION GIVEN DEPTH OF 2 AND 6\n",
        "#PREDICTION ERROR FRO M OF 2\n",
        "#INITLIATE TEST SCORE ERRORS\n",
        "RF2test_score = np.zeros((RF_params['n_estimators'],), dtype=np.float64)\n",
        "\n",
        "for num in np.arange(RF_params['n_estimators']):\n",
        "  new_params = {'n_estimators': num+1, 'max_depth': 3, 'max_features':2, 'criterion': 'mse', 'random_state':42}\n",
        "  randforest_2 = RandomForestRegressor(**new_params)\n",
        "  randforest_2.fit(f_trainx, f_trainy)\n",
        "  y_pred = randforest_2.predict(f_testx)\n",
        "  RF2test_score[num] = mean_squared_error(f_testy, y_pred)"
      ],
      "execution_count": null,
      "outputs": []
    },
    {
      "cell_type": "code",
      "metadata": {
        "id": "OnK3F_LHHAxU"
      },
      "source": [
        "#PREDICTION ERROR FRO M OF 6\n",
        "#INITLIATE TEST SCORE ERRORS\n",
        "RF6test_score = np.zeros((RF_params['n_estimators'],), dtype=np.float64)\n",
        "\n",
        "for num in np.arange(RF_params['n_estimators']):\n",
        "  new_params = {'n_estimators': num+1, 'max_depth': 3, 'max_features':4, 'criterion': 'mse', 'random_state':42}\n",
        "  randforest_6 = RandomForestRegressor(**new_params)\n",
        "  randforest_6.fit(f_trainx, f_trainy)\n",
        "  y_pred = randforest_6.predict(f_testx)\n",
        "  RF6test_score[num] = mean_squared_error(f_testy, y_pred)"
      ],
      "execution_count": null,
      "outputs": []
    },
    {
      "cell_type": "code",
      "metadata": {
        "id": "-veZvqunJTg_",
        "colab": {
          "base_uri": "https://localhost:8080/",
          "height": 421
        },
        "outputId": "9691e2c7-6c50-4a90-cb2e-c5d424ee3765"
      },
      "source": [
        "#----------------DEVIANCE PLOT FOR TEST AND TRAIN DATA\n",
        "#COMPUTE TEST SET DEVIANCE\n",
        "XGB_test_score4 = np.zeros((params['n_estimators'],), dtype=np.float64)\n",
        "XGB_test_score6 = np.zeros((params['n_estimators'],), dtype=np.float64)\n",
        "\n",
        "for i, y_pred in enumerate(xgb_housing4.staged_predict(f_testx)):\n",
        "    XGB_test_score4[i] = xgb_housing4.loss_(f_testy, y_pred)\n",
        "\n",
        "for i, y_pred in enumerate(xgb_housing6.staged_predict(f_testx)):\n",
        "    XGB_test_score6[i] = xgb_housing6.loss_(f_testy, y_pred)\n",
        "\n",
        "plt.figure(figsize=(12, 6))\n",
        "plt.subplot(1, 2, 1)\n",
        "plt.title('Deviance')\n",
        "\n",
        "plt.plot(np.arange(params['n_estimators']) + 1, XGB_test_score4, 'r-',\n",
        "         label='XGB depth = 2')\n",
        "\n",
        "plt.plot(np.arange(params['n_estimators']) + 1, XGB_test_score6, 'b-',\n",
        "         label='XGB depth = 4')\n",
        "\n",
        "plt.plot(np.arange(RF_params['n_estimators']) + 1, RF2test_score, 'y-',\n",
        "         label='RF m = 2')\n",
        "\n",
        "plt.plot(np.arange(RF_params['n_estimators']) + 1, RF6test_score, 'g-',\n",
        "         label='RF m = 4')\n",
        "\n",
        "plt.legend(loc='upper right')\n",
        "plt.xlabel('Iterations')\n",
        "plt.ylabel('Deviance')"
      ],
      "execution_count": null,
      "outputs": [
        {
          "output_type": "execute_result",
          "data": {
            "text/plain": [
              "Text(0, 0.5, 'Deviance')"
            ]
          },
          "metadata": {
            "tags": []
          },
          "execution_count": 62
        },
        {
          "output_type": "display_data",
          "data": {
            "image/png": "[encoded data removed]",
            "text/plain": [
              "<Figure size 864x432 with 1 Axes>"
            ]
          },
          "metadata": {
            "tags": [],
            "needs_background": "light"
          }
        }
      ]
    },
    {
      "cell_type": "markdown",
      "metadata": {
        "id": "K0Jnv02STCl-"
      },
      "source": [
        "This time the different between different methods are not that prominent, since the data sample size are very small. Most method reached a pateau score after 25 iterations"
      ]
    },
    {
      "cell_type": "code",
      "metadata": {
        "id": "KG2786hlL7qM",
        "colab": {
          "base_uri": "https://localhost:8080/",
          "height": 138
        },
        "outputId": "eb9bd10d-3e2b-4ce7-f225-c5b1f836c298"
      },
      "source": [
        "#---------------REGRESSION FOR CALCULATING FEATURE IMPORTANCES\n",
        "#XGBOOST DEPTH OF 6\n",
        "params = {'n_estimators': 800, 'max_depth': 3, 'learning_rate': 0.1, 'loss': 'ls', 'random_state':42}\n",
        "xgb_housing = GradientBoostingRegressor(**params)\n",
        "xgb_housing.fit(f_trainx,f_trainy)\n",
        "\n",
        "#RANDOM ROREST REGRESSON\n",
        "RF_params = {'n_estimators': 800, 'max_depth': 3, 'max_features':4, 'criterion': 'mse', 'random_state':42}\n",
        "randforest = RandomForestRegressor(**RF_params)\n",
        "randforest.fit(f_trainx, f_trainy)\n"
      ],
      "execution_count": null,
      "outputs": [
        {
          "output_type": "execute_result",
          "data": {
            "text/plain": [
              "RandomForestRegressor(bootstrap=True, ccp_alpha=0.0, criterion='mse',\n",
              "                      max_depth=3, max_features=4, max_leaf_nodes=None,\n",
              "                      max_samples=None, min_impurity_decrease=0.0,\n",
              "                      min_impurity_split=None, min_samples_leaf=1,\n",
              "                      min_samples_split=2, min_weight_fraction_leaf=0.0,\n",
              "                      n_estimators=800, n_jobs=None, oob_score=False,\n",
              "                      random_state=42, verbose=0, warm_start=False)"
            ]
          },
          "metadata": {
            "tags": []
          },
          "execution_count": 74
        }
      ]
    },
    {
      "cell_type": "code",
      "metadata": {
        "id": "piSl5FgtNBK2",
        "colab": {
          "base_uri": "https://localhost:8080/",
          "height": 981
        },
        "outputId": "f8ebcebc-595a-46dd-bd3f-a713d23e4133"
      },
      "source": [
        "#--------------FEATURE IMPORTANCE PREDICTED FROM RANDOM FOREST\n",
        "feature_names = f_trainx.columns\n",
        "feature_importance = randforest.feature_importances_\n",
        "sorted_idx = feature_importance.argsort()\n",
        "y_ticks = np.arange(0, f_trainx.shape[1])\n",
        "fig, ax = plt.subplots(figsize=(10, 8))\n",
        "ax.barh(y_ticks, feature_importance[sorted_idx])\n",
        "ax.set_yticklabels(feature_names[sorted_idx])\n",
        "ax.set_yticks(y_ticks)\n",
        "ax.set_title(\"Feature Importance From Random Forest\")\n",
        "plt.show()\n",
        "#---------------FEATURE IMPORTANCE PREDICTED FROM XGBOOST\n",
        "feature_importance = xgb_housing.feature_importances_\n",
        "sorted_idx = feature_importance.argsort()\n",
        "y_ticks = np.arange(0, f_trainx.shape[1])\n",
        "fig, ax = plt.subplots(figsize=(10, 8))\n",
        "ax.barh(y_ticks, feature_importance[sorted_idx])\n",
        "ax.set_yticklabels(feature_names[sorted_idx])\n",
        "ax.set_yticks(y_ticks)\n",
        "ax.set_title(\"Feature Importance From XGBoost\")\n",
        "plt.show()"
      ],
      "execution_count": null,
      "outputs": [
        {
          "output_type": "display_data",
          "data": {
            "image/png": "[encoded data removed]",
            "text/plain": [
              "<Figure size 720x576 with 1 Axes>"
            ]
          },
          "metadata": {
            "tags": [],
            "needs_background": "light"
          }
        },
        {
          "output_type": "display_data",
          "data": {
            "image/png": "[encoded data removed]",
            "text/plain": [
              "<Figure size 720x576 with 1 Axes>"
            ]
          },
          "metadata": {
            "tags": [],
            "needs_background": "light"
          }
        }
      ]
    },
    {
      "cell_type": "markdown",
      "metadata": {
        "id": "4T6iKOQiTPle"
      },
      "source": [
        "Both random forest and XGBoost predicted temperature, DMC to part of the three most important features. However this time, the important values are much more distributed for random forest than the values for XGBoost. "
      ]
    },
    {
      "cell_type": "code",
      "metadata": {
        "id": "Gav2aMDpNRAG"
      },
      "source": [
        ""
      ],
      "execution_count": null,
      "outputs": []
    }
  ]
}