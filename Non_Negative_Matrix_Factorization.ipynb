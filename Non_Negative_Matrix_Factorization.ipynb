{
  "nbformat": 4,
  "nbformat_minor": 0,
  "metadata": {
    "colab": {
      "name": "Non-Negative_Matrix_Factorization",
      "provenance": [],
      "authorship_tag": "ABX9TyPkpmy61hTB11n6ljrg1Cd+",
      "include_colab_link": true
    },
    "kernelspec": {
      "name": "python3",
      "display_name": "Python 3"
    }
  },
  "cells": [
    {
      "cell_type": "markdown",
      "metadata": {
        "id": "view-in-github",
        "colab_type": "text"
      },
      "source": [
        "<a href=\"https://colab.research.google.com/github/SamoaChen/Frequentist-ML/blob/main/Non_Negative_Matrix_Factorization.ipynb\" target=\"_parent\"><img src=\"https://colab.research.google.com/assets/colab-badge.svg\" alt=\"Open In Colab\"/></a>"
      ]
    },
    {
      "cell_type": "code",
      "metadata": {
        "colab": {
          "base_uri": "https://localhost:8080/"
        },
        "id": "09TM6wmhzPaT",
        "outputId": "9cf88213-b84c-41bb-c3b4-20b1334aa661"
      },
      "source": [
        "!pip install scikit-surprise"
      ],
      "execution_count": null,
      "outputs": [
        {
          "output_type": "stream",
          "text": [
            "Collecting scikit-surprise\n",
            "\u001b[?25l  Downloading https://files.pythonhosted.org/packages/97/37/5d334adaf5ddd65da99fc65f6507e0e4599d092ba048f4302fe8775619e8/scikit-surprise-1.1.1.tar.gz (11.8MB)\n",
            "\u001b[K     |████████████████████████████████| 11.8MB 3.9MB/s \n",
            "\u001b[?25hRequirement already satisfied: joblib>=0.11 in /usr/local/lib/python3.6/dist-packages (from scikit-surprise) (0.17.0)\n",
            "Requirement already satisfied: numpy>=1.11.2 in /usr/local/lib/python3.6/dist-packages (from scikit-surprise) (1.18.5)\n",
            "Requirement already satisfied: scipy>=1.0.0 in /usr/local/lib/python3.6/dist-packages (from scikit-surprise) (1.4.1)\n",
            "Requirement already satisfied: six>=1.10.0 in /usr/local/lib/python3.6/dist-packages (from scikit-surprise) (1.15.0)\n",
            "Building wheels for collected packages: scikit-surprise\n",
            "  Building wheel for scikit-surprise (setup.py) ... \u001b[?25l\u001b[?25hdone\n",
            "  Created wheel for scikit-surprise: filename=scikit_surprise-1.1.1-cp36-cp36m-linux_x86_64.whl size=1670898 sha256=82160ba1a212e2cb30e25ee6abba7a7ce46c3ada21594d949ad797adbdb10d15\n",
            "  Stored in directory: /root/.cache/pip/wheels/78/9c/3d/41b419c9d2aff5b6e2b4c0fc8d25c538202834058f9ed110d0\n",
            "Successfully built scikit-surprise\n",
            "Installing collected packages: scikit-surprise\n",
            "Successfully installed scikit-surprise-1.1.1\n"
          ],
          "name": "stdout"
        }
      ]
    },
    {
      "cell_type": "code",
      "metadata": {
        "id": "ZagBZKWmzo9e"
      },
      "source": [
        "#IMPORT PACKAGES \n",
        "import numpy as np\n",
        "import pandas as pd\n",
        "from surprise import NMF\n",
        "from surprise import Dataset\n",
        "from surprise import accuracy\n",
        "import matplotlib.pyplot as plt\n",
        "from surprise.model_selection import GridSearchCV\n",
        "from surprise.model_selection import cross_validate\n",
        "from surprise.model_selection import train_test_split"
      ],
      "execution_count": null,
      "outputs": []
    },
    {
      "cell_type": "code",
      "metadata": {
        "id": "wc9I7UvZz3bZ"
      },
      "source": [
        "#IMPLEMENTATION OF NON-NEGATIVE MATRIX FACTORIZATION\n",
        "\n",
        "#import built in data \n",
        "data = Dataset.load_builtin('ml-100k')\n",
        "\n",
        "#seperating training and testing sets\n",
        "trainset, testset = train_test_split(data, test_size=.2)\n",
        "\n",
        "# cross validate to find the best factor dimension\n",
        "latent_vect = np.linspace(1,20,num=20)\n",
        "# space for storing cv values\n",
        "vals = np.zeros(latent_vect.shape)\n",
        "\n",
        "#find rmse for each latent dimension\n",
        "for index,val in enumerate(latent_vect):\n",
        "  algo = NMF(n_factors=int(val))\n",
        "  result = cross_validate(algo, data, measures=['RMSE', 'RMSE'], cv=5, verbose=False)\n",
        "  vals[index] = result['test_rmse'].mean()\n",
        "\n",
        "#locate dimension that minimize rmse\n",
        "minpos = np.where(vals == vals.min())\n",
        "best_factor_num = latent_vect[minpos]\n"
      ],
      "execution_count": null,
      "outputs": []
    },
    {
      "cell_type": "code",
      "metadata": {
        "colab": {
          "base_uri": "https://localhost:8080/"
        },
        "id": "A1hwNkSGG9AA",
        "outputId": "8be7a3c5-40f9-409c-9d76-809aaae300cd"
      },
      "source": [
        "print(\"factor dimension that minimize rmse: \", latent_vect[minpos].item())\n"
      ],
      "execution_count": null,
      "outputs": [
        {
          "output_type": "stream",
          "text": [
            "factor dimension that minimize rmse:  14.0\n"
          ],
          "name": "stdout"
        }
      ]
    },
    {
      "cell_type": "code",
      "metadata": {
        "colab": {
          "base_uri": "https://localhost:8080/"
        },
        "id": "Ocgm4GWSAvIv",
        "outputId": "9c673aa7-0734-4a02-b210-91b5c9fc5e32"
      },
      "source": [
        "# cross validate to find the best factor dimension\n",
        "reg_vect = np.linspace(0.01,0.1,num=20)\n",
        "# space for storing cv values\n",
        "vals = np.zeros(latent_vect.shape)\n",
        "\n",
        "#find rmse for each regularization \n",
        "for index,val in enumerate(reg_vect):\n",
        "  algo = NMF(n_factors=int(14), reg_pu=int(val), reg_qi=int(val))\n",
        "  result = cross_validate(algo, data, measures=['RMSE', 'RMSE'], cv=5, verbose=False)\n",
        "  vals[index] = result['test_rmse'].mean()\n",
        "\n",
        "#locate dimension that minimize rmse\n",
        "minpos = np.where(vals == vals.min())\n",
        "best_factor_num = latent_vect[minpos]\n",
        "print(\"Regularization value that minimize rmse: \", reg_vect[minpos].item())"
      ],
      "execution_count": null,
      "outputs": [
        {
          "output_type": "stream",
          "text": [
            "Regularization value that minimize rmse:  0.04315789473684211\n"
          ],
          "name": "stdout"
        }
      ]
    },
    {
      "cell_type": "code",
      "metadata": {
        "colab": {
          "base_uri": "https://localhost:8080/"
        },
        "id": "hG6ePxFc0B1E",
        "outputId": "6be86197-a2ef-46e0-ca36-8d269896060e"
      },
      "source": [
        "#prediction for test model\n",
        "algo = NMF(n_factors=14, reg_pu=0.04315789473684211, reg_qi=0.04315789473684211)\n",
        "algo.fit(trainset)\n",
        "predictions = algo.test(testset)\n",
        "\n",
        "#compute RMSE for test \n",
        "print(accuracy.rmse(predictions))"
      ],
      "execution_count": null,
      "outputs": [
        {
          "output_type": "stream",
          "text": [
            "RMSE: 0.9741\n",
            "0.9741034434685671\n"
          ],
          "name": "stdout"
        }
      ]
    },
    {
      "cell_type": "code",
      "metadata": {
        "colab": {
          "base_uri": "https://localhost:8080/"
        },
        "id": "hpxmFUnHgNLY",
        "outputId": "574a276d-fc22-4e53-a4da-dd1938b26678"
      },
      "source": [
        "#-------------GRID SEARCH WITH THE PACKAGE\n",
        "latent_vect = [1, 5, 10, 20, 25, 30]\n",
        "reg_vect1 = [0.01, 0.05, 0.1, 0.15, 0.2]\n",
        "reg_vect2 = [0.01, 0.05, 0.1, 0.15, 0.2]\n",
        "n_epochs = [10, 25, 50, 75, 100]\n",
        "\n",
        "#GRID PARAMETERS\n",
        "param_grid = {'n_factors': latent_vect , 'reg_pu': reg_vect1, 'reg_qi': reg_vect2, 'n_epochs': n_epochs}\n",
        "\n",
        "gs = GridSearchCV(NMF, param_grid, measures=['rmse', 'rmse'], cv=3)\n",
        "\n",
        "gs.fit(data)\n",
        "\n",
        "# best RMSE score\n",
        "print(gs.best_score['rmse'])\n",
        "\n",
        "# combination of parameters that gave the best RMSE score\n",
        "print(gs.best_params['rmse'])"
      ],
      "execution_count": null,
      "outputs": [
        {
          "output_type": "stream",
          "text": [
            "0.9546506706155349\n",
            "{'n_factors': 30, 'reg_pu': 0.1, 'reg_qi': 0.2, 'n_epochs': 100}\n"
          ],
          "name": "stdout"
        }
      ]
    },
    {
      "cell_type": "code",
      "metadata": {
        "colab": {
          "base_uri": "https://localhost:8080/"
        },
        "id": "mtr4e3ZDxfkw",
        "outputId": "c322c384-9e0e-4fb0-b3fc-1b9fc8a10b82"
      },
      "source": [
        "#prediction for test model\n",
        "algo = NMF(n_factors=30, reg_pu=0.1, reg_qi=0.2, n_epochs= 100)\n",
        "algo.fit(trainset)\n",
        "predictions = algo.test(testset)\n",
        "\n",
        "#compute RMSE for test \n",
        "print(accuracy.rmse(predictions))"
      ],
      "execution_count": null,
      "outputs": [
        {
          "output_type": "stream",
          "text": [
            "RMSE: 0.9258\n",
            "0.9258000478138178\n"
          ],
          "name": "stdout"
        }
      ]
    }
  ]
}